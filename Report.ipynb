{
 "cells": [
  {
   "cell_type": "markdown",
   "metadata": {},
   "source": [
    "# Báo cáo đồ án môn \"Khoa học dữ liệu ứng dụng\"\n",
    "\n",
    "Nhóm 1:\n",
    "1. 18120597 - Trần Ngọc Tịnh - TranNgocTinh0810\n",
    "2. 18120599 - Hà Minh Toàn - haminhtoan123\n",
    "3. 18120621 - Nguyễn Đức Trực - trucnguyen13\n",
    "4. 18120656 - Trần Luật Vy - luatvy\n",
    "\n",
    "Link thùng chứa Github của nhóm: https://github.com/TranNgocTinh0810/Global-Wheat-Detection"
   ]
  },
  {
   "cell_type": "markdown",
   "metadata": {},
   "source": [
    "## Mô tả bài toán"
   ]
  },
  {
   "cell_type": "markdown",
   "metadata": {},
   "source": [
    "Cần mô tả rõ ràng để người đọc có thể hiểu được chính xác bài toán mà nhóm muốn giải quyết (trong mục này cũng cần để link Kaggle tương ứng với bài toán)."
   ]
  },
  {
   "cell_type": "markdown",
   "metadata": {},
   "source": [
    "## Giải quyết bài toán"
   ]
  },
  {
   "cell_type": "markdown",
   "metadata": {},
   "source": [
    "Đầu tiên, nhóm bạn cần nói rõ là: trong đồ án này, nhóm tìm hiểu và cài đặt lại (và cải tiến?) một phương pháp giải quyết đã có (cần để link tương ứng, cũng cần nói là phương pháp này đứng thứ mấy trong private leaderboard). Nhóm bạn cũng cần giải thích một xíu để người đọc hiểu là tại sao nhóm bạn lại chọn phương pháp giải quyết này trong số nhiều phương pháp giải quyết. \n",
    "\n",
    "Mục này sẽ rất dài nên có lẽ là nhóm bạn sẽ cần suy nghĩ để chia thành các mục con. Nhóm bạn cần đặt tiêu đề cho các mục con sao cho khi người đọc nhìn vào các tiêu đề này là sẽ hiểu được \"flow\" mà nhóm định trình bày.\n",
    "\n",
    "Với mỗi mục, luôn luôn trình bày *ý tưởng chính* trước khi trình bày chi tiết. Bằng cách này:\n",
    "- Nếu người đọc không có thời gian đọc chi tiết (hoặc đọc nhưng không hiểu hoàn toàn) thì vẫn có thể nắm được ý tưởng chính. \n",
    "- Khi nhóm bạn thuyết trình (nhóm bạn sẽ dùng file notebook này để thuyết trình luôn, chứ không cần phải soạn thêm slide), nhóm bạn có thể chỉ trình bày phần ý tưởng chính (vì thời gian thuyết trình là có hạn); có thể dùng chức năng \"collapse sections\" của Google Colab (hoặc chức năng tương tự của Jupyter Notebook/Lab) để dấu phần chi tiết đi, chỉ khi người nghe hỏi thì mới mở ra để trình bày.\n",
    "\n",
    "Viết viết lách và code sao cho người khác dễ theo dõi là một kỹ năng được tập trung rèn luyện trong đồ án này. \n",
    "\n",
    "Ở phần code, nhóm bạn cũng cần nói rõ là: để chạy được các code cell ở bên dưới thì đầu tiên cần phải download các file dữ liệu ở đâu và đặt các file dữ liệu này ở thư mục nào (nếu được thì nhóm bạn cũng có thể tự động hóa vụ này bằng cách viết một đoạn code để check xem đã có các file dữ liệu chưa, nếu chưa có thì sẽ tự động download xuống)."
   ]
  },
  {
   "cell_type": "markdown",
   "metadata": {},
   "source": [
    "## Nhìn lại quá trình làm đồ án"
   ]
  },
  {
   "cell_type": "markdown",
   "metadata": {},
   "source": [
    "Sau bao ngày vất vả làm đồ án thì bây giờ đã kết thúc. Bây giờ là lúc để ngồi uống coffee và tĩnh tâm nhìn lại quá trình làm.\n",
    "\n",
    "- Mỗi thành viên: Đã gặp những khó khăn gì? (Hay mọi chuyện đều thuận lợi)\n",
    "- Mỗi thành viên: Có học được gì hữu ích? (Hay không học được gì)\n",
    "- Nhóm: Nếu có thêm thời gian thì sẽ làm gì?\n",
    "\n",
    "Phần này có sao thì bạn nói vậy thôi, chứ không phải là viết\n",
    "cho có, hoặc tự chế ra để nghe cho hay."
   ]
  },
  {
   "cell_type": "markdown",
   "metadata": {},
   "source": [
    "## Tài liệu tham khảo"
   ]
  },
  {
   "cell_type": "markdown",
   "metadata": {},
   "source": [
    "Để hoàn thành đồ án này, nhóm bạn đã tham khảo những tài liệu nào?"
   ]
  }
 ],
 "metadata": {
  "hide_input": false,
  "kernelspec": {
   "display_name": "Python 3",
   "language": "python",
   "name": "python3"
  },
  "language_info": {
   "codemirror_mode": {
    "name": "ipython",
    "version": 3
   },
   "file_extension": ".py",
   "mimetype": "text/x-python",
   "name": "python",
   "nbconvert_exporter": "python",
   "pygments_lexer": "ipython3",
   "version": "3.7.10"
  },
  "toc": {
   "base_numbering": 1,
   "nav_menu": {},
   "number_sections": true,
   "sideBar": true,
   "skip_h1_title": false,
   "title_cell": "Table of Contents",
   "title_sidebar": "Contents",
   "toc_cell": false,
   "toc_position": {},
   "toc_section_display": true,
   "toc_window_display": false
  }
 },
 "nbformat": 4,
 "nbformat_minor": 5
}
